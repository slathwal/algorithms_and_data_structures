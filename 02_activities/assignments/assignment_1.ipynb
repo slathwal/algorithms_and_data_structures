{
 "cells": [
  {
   "cell_type": "markdown",
   "metadata": {},
   "source": [
    "# Coding Problems\n",
    "\n",
    "## Objective\n",
    "\n",
    "This assignment aims to demonstrate how to study a data structures or algorithms question in depth to prepare for an industry coding interview. Leetcode is a popular coding practice site that many use to practice for technical interviews. Like behavioral interviews, it's important to practice and keep your skills sharp.\n",
    "\n",
    "## Group Size\n",
    "\n",
    "Please complete this individually.\n",
    "\n",
    "## Parts:\n",
    "- Part 1: Figure out the problem you have been assigned, and understand the problem\n",
    "- Part 2: Answer the questions about your assigned problem (including solving it)\n",
    "\n",
    "## Part 1:\n",
    "\n",
    "_*You will be assigned one of three problems based of your first name. Enter your first name, in all lower case, execute the code below, and that will tell you your assigned problem. Include the output as part of your submission (do not clear the output). The problems are based-off problems from Leetcode.*_\n"
   ]
  },
  {
   "cell_type": "code",
   "execution_count": 2,
   "metadata": {},
   "outputs": [
    {
     "name": "stdout",
     "output_type": "stream",
     "text": [
      "1\n"
     ]
    }
   ],
   "source": [
    "import hashlib\n",
    "\n",
    "def hash_to_range(input_string: str) -> int:\n",
    "     hash_object = hashlib.sha256(input_string.encode())\n",
    "     hash_int = int(hash_object.hexdigest(), 16)\n",
    "     return (hash_int % 3) + 1\n",
    "input_string = \"shefali\"\n",
    "result = hash_to_range(input_string)\n",
    "print(result)"
   ]
  },
  {
   "cell_type": "markdown",
   "metadata": {},
   "source": [
    "## Question One: First Duplicate in List\n",
    "**Description**  \n",
    "Given a list of integers, return the **first value that appears more than once**. If there are multiple duplicates, return the one that appears **first** in the list. If no duplicate exists, return `-1`.\n",
    "\n",
    "**Examples**\n",
    "```python\n",
    "Input: nums = [3, 1, 4, 2, 5, 1, 6]\n",
    "Output: 1\n",
    "```\n",
    "```python\n",
    "Input: nums = [7, 8, 9, 10]\n",
    "Output: -1\n",
    "```\n",
    "```python\n",
    "Input: nums = [4, 5, 6, 4, 6]\n",
    "Output: 4\n",
    "```\n",
    "\n",
    "**Question 1 Starter Code**"
   ]
  },
  {
   "cell_type": "code",
   "execution_count": 3,
   "metadata": {},
   "outputs": [],
   "source": [
    "from typing import List\n",
    "\n",
    "def first_duplicate(nums: List[int]) -> int:\n",
    "    # TODO\n",
    "    pass"
   ]
  },
  {
   "cell_type": "markdown",
   "metadata": {},
   "source": [
    "## Question Two: Valid Bracket Sequence\n",
    "**Description**  \n",
    "Given a string containing only the characters `'('`, `')'`, `'{'`, `'}'`, `'['`, and `']'`, determine if the input string is a **valid bracket sequence**.  \n",
    "A string is valid if:\n",
    "- Open brackets are closed by the same type of brackets, and\n",
    "- Open brackets are closed in the correct order.\n",
    "\n",
    "**Examples**\n",
    "```python\n",
    "Input: s = \"([]{})\"\n",
    "Output: True\n",
    "```\n",
    "```python\n",
    "Input: s = \"([)]\"\n",
    "Output: False\n",
    "```\n",
    "```python\n",
    "Input: s = \"()[]{}\"\n",
    "Output: True\n",
    "```\n",
    "```python\n",
    "Input: s = \"[{]}\"\n",
    "Output: False\n",
    "```\n",
    "\n",
    "**Question 2 Starter Code**"
   ]
  },
  {
   "cell_type": "code",
   "execution_count": 4,
   "metadata": {},
   "outputs": [],
   "source": [
    "def is_valid_brackets(s: str) -> bool:\n",
    "    # TODO\n",
    "    pass"
   ]
  },
  {
   "cell_type": "markdown",
   "metadata": {},
   "source": [
    "## Question Three: Move All Zeros to End\n",
    "**Description**  \n",
    "Given a list of integers, move all zeros to the end while maintaining the relative order of the non-zero elements. \n",
    "\n",
    "**Examples**\n",
    "```python\n",
    "Input: nums = [0, 1, 0, 3, 12]\n",
    "Output: [1, 3, 12, 0, 0]\n",
    "```\n",
    "```python\n",
    "Input: nums = [4, 0, 5, 0, 0, 6]\n",
    "Output: [4, 5, 6, 0, 0, 0]\n",
    "```\n"
   ]
  },
  {
   "cell_type": "code",
   "execution_count": 5,
   "metadata": {},
   "outputs": [],
   "source": [
    "from typing import List\n",
    "\n",
    "def move_zeros_to_end(nums: List[int]) -> List[int]:\n",
    "    # TODO\n",
    "    pass"
   ]
  },
  {
   "cell_type": "markdown",
   "metadata": {},
   "source": [
    "\n",
    "## Part 2:\n",
    "\n",
    "-   Paraphrase the problem in your own words\n"
   ]
  },
  {
   "cell_type": "code",
   "execution_count": 6,
   "metadata": {},
   "outputs": [
    {
     "data": {
      "text/markdown": [
       "Given a list of positive numbers (including zero), the task is to find the first number that has a duplicate in the list. The problem can be broken down into the following steps:\n",
       "1. There are no duplicates in the list. In this case we should return a value = -1\n",
       "2. One number appears multiple times (>=2) in the list and all other numbers appear once. In this case, find the number that appears more than once and return that number.\n",
       "3. Multiple numbers (>=2) in the list appear multiple times (>=2). In this case, return the number that appears more than once in the list and whose index is the smallest, i.e., the number that has a duplicate value and occurs first in the list."
      ],
      "text/plain": [
       "<IPython.core.display.Markdown object>"
      ]
     },
     "metadata": {},
     "output_type": "display_data"
    }
   ],
   "source": [
    "from IPython.display import Markdown\n",
    "# Your answer here\n",
    "answer = \"\"\"Given a list of positive numbers (including zero), the task is to find the first number that has a duplicate in the list. The problem can be broken down into the following steps:\n",
    "1. There are no duplicates in the list. In this case we should return a value = -1\n",
    "2. One number appears multiple times (>=2) in the list and all other numbers appear once. In this case, find the number that appears more than once and return that number.\n",
    "3. Multiple numbers (>=2) in the list appear multiple times (>=2). In this case, return the number that appears more than once in the list and whose index is the smallest, i.e., the number that has a duplicate value and occurs first in the list.\"\"\"\n",
    "display(Markdown(answer))"
   ]
  },
  {
   "cell_type": "markdown",
   "metadata": {},
   "source": [
    "- In this .ipynb file, there are examples that illustrate how the code should work (the examples provided above). Create 2 new examples for the question you have been assigned, that demonstrate you understand the problem. For question 1 and 2, you don't need to create the tree demonstration, just the input and output.\n"
   ]
  },
  {
   "cell_type": "code",
   "execution_count": 7,
   "metadata": {},
   "outputs": [
    {
     "data": {
      "text/markdown": [
       "\n",
       "**Additional Examples for Problem 1**\n",
       "```python\n",
       "Input: nums = [3, 1, 4, 2, 5, 1, 6, 1, 4, 3]\n",
       "Output: 3\n",
       "```\n",
       "```python\n",
       "Input: nums = [7, 8, 9, 10, 2, 1, 1]\n",
       "Output: 1\n",
       "```\n"
      ],
      "text/plain": [
       "<IPython.core.display.Markdown object>"
      ]
     },
     "metadata": {},
     "output_type": "display_data"
    }
   ],
   "source": [
    "# Your answer here\n",
    "answer = \"\"\"\n",
    "**Additional Examples for Problem 1**\n",
    "```python\n",
    "Input: nums = [3, 1, 4, 2, 5, 1, 6, 1, 4, 3]\n",
    "Output: 3\n",
    "```\n",
    "```python\n",
    "Input: nums = [7, 8, 9, 10, 2, 1, 1]\n",
    "Output: 1\n",
    "```\n",
    "\"\"\"\n",
    "\n",
    "display(Markdown(answer))"
   ]
  },
  {
   "cell_type": "markdown",
   "metadata": {},
   "source": [
    "\n",
    "-   Code the solution to your assigned problem in Python (code chunk). Note: each problem can be solved more simply if you use an abstract data type that is suitable for that problem. Using that try to find the best time and space complexity solution!\n"
   ]
  },
  {
   "cell_type": "code",
   "execution_count": 8,
   "metadata": {},
   "outputs": [
    {
     "name": "stdout",
     "output_type": "stream",
     "text": [
      "\n",
      "Duplicate found: 3\n",
      "Duplicate expected: 3\n",
      "\n",
      "Duplicate found: 1\n",
      "Duplicate expected: 1\n",
      "\n",
      "Duplicate found: -1\n",
      "Duplicate expected: -1\n"
     ]
    }
   ],
   "source": [
    "# Your answer here\n",
    "from typing import List\n",
    "\n",
    "def first_duplicate(nums: List[int]) -> int:\n",
    "    # TODO\n",
    "    # Create a temporary list used to look for duplicate values\n",
    "    temp_list = nums.copy()\n",
    "    for value in nums: # Iterate through all the values in the provided list\n",
    "        temp_list.remove(value) # Remove the first occurence of the value from the temporary list\n",
    "        # print(value, temp_list) \n",
    "        if value in temp_list: # Check if value is present anywhere else in the temp_list after removing the current value\n",
    "            return value # if the condition is True, we can return the value which we know has a duplicate and exit the function since we are only interested in the very first value that is duplicated.\n",
    "    return -1\n",
    "\n",
    "\n",
    "test_lists = [[3, 1, 4, 2, 5, 1, 6, 1, 4, 3], [7, 8, 9, 10, 2, 1, 1], [7, 8, 9, 10]]\n",
    "results_expected = [3, 1, -1]\n",
    "for test_list, result_expected in zip(test_lists, results_expected):\n",
    "    result_found = first_duplicate(test_list)\n",
    "    print(f\"\\nDuplicate found: {result_found}\\nDuplicate expected: {result_expected}\")"
   ]
  },
  {
   "cell_type": "markdown",
   "metadata": {},
   "source": [
    "\n",
    "-   Explain why your solution works\n"
   ]
  },
  {
   "cell_type": "code",
   "execution_count": 12,
   "metadata": {},
   "outputs": [
    {
     "data": {
      "text/markdown": [
       "\n",
       "In the solution, we sequentially iterate through the values in a given list starting with the first value and compare each value with all values present after that value.\n",
       "As we move through the list, we only need to consider elements that occur after the list because previous elements have already been checked. The algorithm stops as soon\n",
       "as it finds an element with a duplicate value (since only the first element with a duplicate needs to be returned) or when all elements have been checked.\n",
       "The solution works because the data structure we are using, i.e. lists, maintain elements in an order and we can go through those elements sequentially.\n"
      ],
      "text/plain": [
       "<IPython.core.display.Markdown object>"
      ]
     },
     "metadata": {},
     "output_type": "display_data"
    }
   ],
   "source": [
    "# Your answer here\n",
    "answer = \"\"\"\n",
    "In the solution, we sequentially iterate through the values in a given list starting with the first value and compare each value with all values present after that value.\n",
    "As we move through the list, we only need to consider elements that occur after the list because previous elements have already been checked. The algorithm stops as soon\n",
    "as it finds an element with a duplicate value (since only the first element with a duplicate needs to be returned) or when all elements have been checked.\n",
    "The solution works because the data structure we are using, i.e. lists, maintain elements in an order and we can go through those elements sequentially.\n",
    "\"\"\"\n",
    "display(Markdown(answer))"
   ]
  },
  {
   "cell_type": "markdown",
   "metadata": {},
   "source": [
    "\n",
    "-   Explain the problem’s time and space complexity\n"
   ]
  },
  {
   "cell_type": "code",
   "execution_count": 23,
   "metadata": {},
   "outputs": [
    {
     "data": {
      "text/markdown": [
       "\n",
       "### Time complexity\n",
       "\n",
       "The problem's time complexity is O(n^2^). The reasoning is as follows:\n",
       "\n",
       "```python\n",
       "temp_list = nums.copy() # Copy operation is O(n)\n",
       "    for value in nums: # For loop is O(n)\n",
       "        temp_list.remove(value) # removing the first element from temp_list is O(n)\n",
       "        if value in temp_list: # searching a value in a list is O(n)\n",
       "            return value  # returning a value is O(1)\n",
       "    return -1 # returning a value is O(1)\n",
       "```\n",
       "Overall, We have a for loop with O(n) time complexity, and for each iteration of that loop we are running two O(n) and one O(1) operation, so the overall time complexity becomes O(n^2^)\n",
       "\n",
       "### Space complexity\n",
       "\n",
       "The space complexity of the problem is O(n). The reasoning is as follows:\n",
       "\n",
       "We are storing the original list, which is O(n) and we are making a copy of the original list, which is O(n). So overall we are using O(2*n) which becomes an O(n) operation.\n"
      ],
      "text/plain": [
       "<IPython.core.display.Markdown object>"
      ]
     },
     "metadata": {},
     "output_type": "display_data"
    }
   ],
   "source": [
    "# Your answer here\n",
    "answer = \"\"\"\n",
    "### Time complexity\n",
    "\n",
    "The problem's time complexity is O(n^2^). The reasoning is as follows:\n",
    "\n",
    "```python\n",
    "temp_list = nums.copy() # Copy operation is O(n)\n",
    "    for value in nums: # For loop is O(n)\n",
    "        temp_list.remove(value) # removing the first element from temp_list is O(n)\n",
    "        if value in temp_list: # searching a value in a list is O(n)\n",
    "            return value  # returning a value is O(1)\n",
    "    return -1 # returning a value is O(1)\n",
    "```\n",
    "Overall, We have a for loop with O(n) time complexity, and for each iteration of that loop we are running two O(n) and one O(1) operation, so the overall time complexity becomes O(n^2^)\n",
    "\n",
    "### Space complexity\n",
    "\n",
    "The space complexity of the problem is O(n). The reasoning is as follows:\n",
    "\n",
    "We are storing the original list, which is O(n) and we are making a copy of the original list, which is O(n). So overall we are using O(2*n) which becomes an O(n) operation.\n",
    "\"\"\"\n",
    "display(Markdown(answer))"
   ]
  },
  {
   "cell_type": "markdown",
   "metadata": {},
   "source": [
    "\n",
    "-   Explain the thinking to an alternative solution (no coding required, but a classmate reading this should be able to code it up based off your text)\n"
   ]
  },
  {
   "cell_type": "code",
   "execution_count": 25,
   "metadata": {},
   "outputs": [
    {
     "data": {
      "text/markdown": [
       "An alternative solution can be through recursion. \n",
       "\n",
       "We can define a recursive function with the following steps:\n",
       "1. If the the list is empty or has only one element, return -1. (base case)\n",
       "2. if the list has more than one element, take the first element of the list (at index 0) and check if the element occurs in the remaining list (anywhere in indices 1 onward).\n",
       "3. If the element occurs in the remaining list, return the value of the element.\n",
       "4. If the element does not occur in the remaining list, take the remaining list (index 1 onward) and go to step 1 again.\n"
      ],
      "text/plain": [
       "<IPython.core.display.Markdown object>"
      ]
     },
     "metadata": {},
     "output_type": "display_data"
    }
   ],
   "source": [
    "# Your answer here\n",
    "answer = \"\"\"An alternative solution can be through recursion. \n",
    "\n",
    "We can define a recursive function with the following steps:\n",
    "1. If the the list is empty or has only one element, return -1. (base case)\n",
    "2. if the list has more than one element, take the first element of the list (at index 0) and check if the element occurs in the remaining list (anywhere in indices 1 onward).\n",
    "3. If the element occurs in the remaining list, return the value of the element.\n",
    "4. If the element does not occur in the remaining list, take the remaining list (index 1 onward) and go to step 1 again.\n",
    "\"\"\"\n",
    "\n",
    "display(Markdown(answer))"
   ]
  },
  {
   "cell_type": "markdown",
   "metadata": {},
   "source": [
    "## Evaluation Criteria\n",
    "\n",
    "-   Problem is accurately stated\n",
    "\n",
    "-   Two examples are correct and easily understandable\n",
    "\n",
    "-   Correctness, time, and space complexity of the coding solution\n",
    "\n",
    "-   Clarity in explaining why the solution works, its time and space complexity\n",
    "\n",
    "-   Clarity in the proposal to the alternative solution"
   ]
  },
  {
   "cell_type": "markdown",
   "metadata": {},
   "source": [
    "## Submission Information\n",
    "\n",
    "🚨 **Please review our [Assignment Submission Guide](https://github.com/UofT-DSI/onboarding/blob/main/onboarding_documents/submissions.md)** 🚨 for detailed instructions on how to format, branch, and submit your work. Following these guidelines is crucial for your submissions to be evaluated correctly.\n",
    "\n",
    "### Submission Parameters:\n",
    "* Submission Due Date: `HH:MM AM/PM - DD/MM/YYYY`\n",
    "* The branch name for your repo should be: `assignment-1`\n",
    "* What to submit for this assignment:\n",
    "    * This Jupyter Notebook (assignment_1.ipynb) should be populated and should be the only change in your pull request.\n",
    "* What the pull request link should look like for this assignment: `https://github.com/<your_github_username>/algorithms_and_data_structures/pull/<pr_id>`\n",
    "    * Open a private window in your browser. Copy and paste the link to your pull request into the address bar. Make sure you can see your pull request properly. This helps the technical facilitator and learning support staff review your submission easily.\n",
    "\n",
    "Checklist:\n",
    "- [ ] Create a branch called `assignment-1`.\n",
    "- [ ] Ensure that the repository is public.\n",
    "- [ ] Review [the PR description guidelines](https://github.com/UofT-DSI/onboarding/blob/main/onboarding_documents/submissions.md#guidelines-for-pull-request-descriptions) and adhere to them.\n",
    "- [ ] Verify that the link is accessible in a private browser window.\n",
    "\n",
    "If you encounter any difficulties or have questions, please don't hesitate to reach out to our team via our Slack at `#cohort-3-help`. Our Technical Facilitators and Learning Support staff are here to help you navigate any challenges."
   ]
  }
 ],
 "metadata": {
  "kernelspec": {
   "display_name": "dsi_participant",
   "language": "python",
   "name": "python3"
  },
  "language_info": {
   "codemirror_mode": {
    "name": "ipython",
    "version": 3
   },
   "file_extension": ".py",
   "mimetype": "text/x-python",
   "name": "python",
   "nbconvert_exporter": "python",
   "pygments_lexer": "ipython3",
   "version": "3.11.8"
  }
 },
 "nbformat": 4,
 "nbformat_minor": 4
}
