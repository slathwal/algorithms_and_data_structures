{
 "cells": [
  {
   "cell_type": "markdown",
   "metadata": {},
   "source": [
    "# Practice Interview\n",
    "\n",
    "## Objective\n",
    "\n",
    "_*The partner assignment aims to provide participants with the opportunity to practice coding in an interview context. You will analyze your partner's Assignment 1. Moreover, code reviews are common practice in a software development team. This assignment should give you a taste of the code review process.*_\n",
    "\n",
    "## Group Size\n",
    "\n",
    "Each group should have 2 people. You will be assigned a partner\n",
    "\n",
    "## Parts:\n",
    "- Part 1: Complete 1 of 3 questions\n",
    "- Part 2: Review your partner's Assignment 1 submission\n",
    "- Part 3: Perform code review of your partner's assignment 1 by answering the questions below\n",
    "- Part 3: Reflect on Assignment 1 and Assignment 2\n",
    "\n",
    "## Part 1:\n",
    "\n",
    "_*You will be assigned one of three problems based of your first name. Enter your first name, in all lower case, execute the code below, and that will tell you your assigned problem. Include the output as part of your submission (do not clear the output). The problems are based-off problems from Leetcode.*_"
   ]
  },
  {
   "cell_type": "code",
   "execution_count": 11,
   "metadata": {},
   "outputs": [
    {
     "name": "stdout",
     "output_type": "stream",
     "text": [
      "1\n"
     ]
    }
   ],
   "source": [
    "import hashlib\n",
    "\n",
    "def hash_to_range(input_string: str) -> int:\n",
    "     hash_object = hashlib.sha256(input_string.encode())\n",
    "     hash_int = int(hash_object.hexdigest(), 16)\n",
    "     return (hash_int % 3) + 1\n",
    "input_string = \"shefali\"\n",
    "result = hash_to_range(input_string)\n",
    "print(result)\n"
   ]
  },
  {
   "cell_type": "markdown",
   "metadata": {},
   "source": [
    "<details>\n",
    "  <summary>Question 1</summary>\n",
    "\n",
    "  # Question One: Check Duplicates in Tree\n",
    "\n",
    "  Given the `root` of a binary tree, check whether it is contains a duplicate value. If a duplicate exists, return the duplicate value. If there are multiple duplicates, return the one with the closest distance to the root. If no duplicate exists, return -1.\n",
    "\n",
    "  ## Examples\n",
    "\n",
    "  ### Example 1\n",
    "\n",
    "  ![](./images/q1_ex1.png)\n",
    "\n",
    "  Input: `root = [1, 2, 2, 3, 5, 6, 7]` *What traversal method is this?*\n",
    "\n",
    "  Output: 2\n",
    "\n",
    "  ### Example 2\n",
    "\n",
    "  ![](./images/q1_ex2.png)\n",
    "\n",
    "  Input: `root = [1, 10, 2, 3, 10, 12, 12]`\n",
    "\n",
    "  Output: 10\n",
    "\n",
    "  ### Example 3\n",
    "\n",
    "  ![](./images/q1_ex3.png)\n",
    "\n",
    "  Input: `root = [10, 9, 8, 7]`\n",
    "\n",
    "  Output: -1\n",
    "\n",
    "</details>\n",
    "\n",
    "#### Starter Code for Question 1"
   ]
  },
  {
   "cell_type": "code",
   "execution_count": 12,
   "metadata": {},
   "outputs": [],
   "source": [
    "from typing import List, Set\n",
    "# Definition for a binary tree node.\n",
    "class TreeNode(object):\n",
    "    def __init__(self, val = 0, left = None, right = None):\n",
    "        self.val = val\n",
    "        self.left = left\n",
    "        self.right = right\n",
    "\n",
    "def is_duplicate(root: TreeNode) -> int:\n",
    "    queue = [root] # initialize the queue with the root node\n",
    "    visited = set() # Initialize a set to store the nodes already visited\n",
    "    return is_duplicate_rec(root, queue, visited)\n",
    "\n",
    "def is_duplicate_rec(root: TreeNode, queue: List, visited: Set) -> int:\n",
    "    # This function will return -1 if no duplicate value is found and will return the value if a duplicate exists in the tree. \n",
    "    # If multiple values have duplicates, then the value closest to the root node will be returned\n",
    "    if root.left and root.right: # if node has two children\n",
    "        # Check if the value of the root is in visited set and if not, add it to the visited set\n",
    "        if root.val in visited:\n",
    "            return root.val\n",
    "        else:\n",
    "            # Add the value of the root to the visited set\n",
    "            visited.add(root.val)\n",
    "            # remove the root node from the queue\n",
    "            queue.remove(root)\n",
    "            # add both children to queue\n",
    "            queue.append(root.left)\n",
    "            queue.append(root.right)\n",
    "            # Call the function again on the first element of the queue\n",
    "            return is_duplicate_rec(queue[0], queue, visited)\n",
    "    elif root.left == None and root.right: # if node has right node, but no left node\n",
    "        if root.val in visited:\n",
    "            return root.val\n",
    "        else:\n",
    "            visited.add(root.val)\n",
    "            queue.remove(root)\n",
    "            queue.append(root.right)\n",
    "            return is_duplicate_rec(queue[0], queue, visited)\n",
    "    elif root.right == None and root.left: # if node has left node, but no right node\n",
    "        if root.val in visited:\n",
    "            return root.val\n",
    "        else:\n",
    "            visited.add(root.val)\n",
    "            queue.remove(root)\n",
    "            queue.append(root.left)\n",
    "            return is_duplicate_rec(queue[0], queue, visited)\n",
    "    else: # if both children are None\n",
    "        if root.val in visited:\n",
    "            return root.val\n",
    "        else:\n",
    "            # add node to visited set\n",
    "            visited.add(root.val)\n",
    "            # remove the node from the queue\n",
    "            queue.remove(root)\n",
    "            if queue == []:\n",
    "                return -1\n",
    "            else:\n",
    "                return is_duplicate_rec(queue[0], queue, visited)\n",
    "    "
   ]
  },
  {
   "cell_type": "code",
   "execution_count": 13,
   "metadata": {},
   "outputs": [
    {
     "data": {
      "text/plain": [
       "-1"
      ]
     },
     "execution_count": 13,
     "metadata": {},
     "output_type": "execute_result"
    }
   ],
   "source": [
    "root_single = TreeNode(val = 10)\n",
    "is_duplicate(root_single)"
   ]
  },
  {
   "cell_type": "code",
   "execution_count": 14,
   "metadata": {},
   "outputs": [
    {
     "data": {
      "text/plain": [
       "-1"
      ]
     },
     "execution_count": 14,
     "metadata": {},
     "output_type": "execute_result"
    }
   ],
   "source": [
    "root_right = TreeNode(val = 1,\n",
    "                      left = None,\n",
    "                      right = TreeNode(val = 8))\n",
    "\n",
    "is_duplicate(root_right)"
   ]
  },
  {
   "cell_type": "code",
   "execution_count": 15,
   "metadata": {},
   "outputs": [
    {
     "data": {
      "text/plain": [
       "-1"
      ]
     },
     "execution_count": 15,
     "metadata": {},
     "output_type": "execute_result"
    }
   ],
   "source": [
    "root_left = TreeNode(val = 8,\n",
    "                      right = None,\n",
    "                      left = TreeNode(val = 3))\n",
    "\n",
    "is_duplicate(root_left)\n"
   ]
  },
  {
   "cell_type": "code",
   "execution_count": 16,
   "metadata": {},
   "outputs": [],
   "source": [
    "# Example Tree\n",
    "root1 = TreeNode(val = 1, \n",
    "                 left = TreeNode(val = 2, left = TreeNode(val = 3), right = TreeNode(val = 5)), \n",
    "                 right = TreeNode(val = 2, left = TreeNode(val = 6), right = TreeNode (val = 7)))\n",
    "\n",
    "# Example Tree\n",
    "root2 = TreeNode(val = 1, \n",
    "                 left = TreeNode(val = 10, left = TreeNode(val = 3), right = TreeNode(val = 10)), \n",
    "                 right = TreeNode(val = 2, left = TreeNode(val = 12), right = TreeNode (val = 12)))\n",
    "\n",
    "# Example Tree\n",
    "root3 = TreeNode(val = 10, \n",
    "                 left = TreeNode(val = 9, left = TreeNode(val = 8)), \n",
    "                 right = TreeNode(val = 7))\n"
   ]
  },
  {
   "cell_type": "code",
   "execution_count": 17,
   "metadata": {},
   "outputs": [
    {
     "data": {
      "text/plain": [
       "2"
      ]
     },
     "execution_count": 17,
     "metadata": {},
     "output_type": "execute_result"
    }
   ],
   "source": [
    "is_duplicate(root1)"
   ]
  },
  {
   "cell_type": "code",
   "execution_count": 18,
   "metadata": {},
   "outputs": [
    {
     "data": {
      "text/plain": [
       "10"
      ]
     },
     "execution_count": 18,
     "metadata": {},
     "output_type": "execute_result"
    }
   ],
   "source": [
    "is_duplicate(root2)"
   ]
  },
  {
   "cell_type": "code",
   "execution_count": 19,
   "metadata": {},
   "outputs": [
    {
     "data": {
      "text/plain": [
       "-1"
      ]
     },
     "execution_count": 19,
     "metadata": {},
     "output_type": "execute_result"
    }
   ],
   "source": [
    "is_duplicate(root3)"
   ]
  },
  {
   "cell_type": "markdown",
   "metadata": {},
   "source": [
    "<details>\n",
    "  <summary>Question 2</summary>\n",
    "\n",
    "  # Question Two: Path to Leaves\n",
    "\n",
    "  Given the `root` of a binary tree, return all root to leaf paths in any order.\n",
    "\n",
    "  ## Examples\n",
    "\n",
    "  ### Example 1\n",
    "\n",
    "  ![](./images/q1_ex1.png)\n",
    "\n",
    "  Input: `root = [1, 2, 2, 3, 5, 6, 7]` *What traversal method is this?*\n",
    "\n",
    "  Output: [[1, 2, 3], [1, 2, 5], [1, 2, 6], [1, 2, 7]]\n",
    "\n",
    "  ### Example 2\n",
    "\n",
    "  ![](./images/q1_ex3.png)\n",
    "\n",
    "  Input: `root = [10, 9, 7, 8]`\n",
    "\n",
    "  Output: [[10, 7], [10, 9, 8]]\n",
    "\n",
    "</details>\n",
    "\n",
    "#### Starter Code for Question 2"
   ]
  },
  {
   "cell_type": "code",
   "execution_count": 20,
   "metadata": {},
   "outputs": [],
   "source": [
    "# Definition for a binary tree node.\n",
    "# class TreeNode(object):\n",
    "#     def __init__(self, val = 0, left = None, right = None):\n",
    "#         self.val = val\n",
    "#         self.left = left\n",
    "#         self.right = right\n",
    "def bt_path(root: TreeNode) -> List[List[int]]:\n",
    "  # TODO\n",
    "  pass"
   ]
  },
  {
   "cell_type": "markdown",
   "metadata": {},
   "source": [
    "<details>\n",
    "  <summary>Question 3</summary>\n",
    "\n",
    "  # Question Three: Missing Number in Range\n",
    " \n",
    "  You are given a list containing `n` integers in the range `[0, n]`. Return a list of numbers that are missing from the range `[0, n]` of the array. If there is no missing number, return -1. Note, all the integers in the list may not be unique.\n",
    "  \n",
    "  ## Examples\n",
    "\n",
    "  ### Example 1\n",
    "\n",
    "  Input: `lst = [0, 2]`\n",
    "\n",
    "  Output: [1]\n",
    "\n",
    "  ### Example 2\n",
    "\n",
    "  Input: `lst = [5, 0, 1]`\n",
    "\n",
    "  Output: [2, 3, 4]\n",
    "\n",
    "  ### Example 3\n",
    "\n",
    "  Input: `lst = [6, 8, 2, 3, 5, 7, 0, 1, 10]`\n",
    "\n",
    "  Output: [4, 9]\n",
    "\n",
    "</details>\n",
    "\n",
    "#### Starter Code for Question 3\n"
   ]
  },
  {
   "cell_type": "code",
   "execution_count": 21,
   "metadata": {
    "scrolled": true
   },
   "outputs": [],
   "source": [
    "def missing_num(nums: List) -> int:\n",
    "  # TODO\n",
    "  pass"
   ]
  },
  {
   "cell_type": "markdown",
   "metadata": {
    "jp-MarkdownHeadingCollapsed": true
   },
   "source": [
    "## Part 2:\n",
    "\n",
    "You and your partner must share each other's Assignment 1 submission."
   ]
  },
  {
   "cell_type": "markdown",
   "metadata": {},
   "source": [
    "The partner for this assignment is Rameez Rosul. Their assignment can be found at https://github.com/rameez123456789/algorithms_and_data_structures/pulls."
   ]
  },
  {
   "cell_type": "markdown",
   "metadata": {},
   "source": [
    "\n",
    "## Part 3:\n",
    "\n",
    "Create a Jupyter Notebook, create 6 of the following headings, and complete the following for your partner's assignment 1:\n",
    "\n",
    "-   Paraphrase the problem in your own words.\n"
   ]
  },
  {
   "cell_type": "code",
   "execution_count": 22,
   "metadata": {},
   "outputs": [
    {
     "data": {
      "text/markdown": [
       "\n",
       "Given a string made up of any of 6 characters that represent opening and closing brackets, the goal is to determine if the string contains a valid bracket sequeunce, which is defined as follows:\n",
       "- If there are any open brackets, they should be closed by the same type of brackets, and\n",
       "- The order of closing the brackets should be correct, i.e. if there are two opening brackets, '(' and '[', then a valid string would contain ']' followed by ')'.\n",
       "If the string is found to be valid, i.e., the string satisfies both of the above conditions, we will return True, otherwise return False.\n"
      ],
      "text/plain": [
       "<IPython.core.display.Markdown object>"
      ]
     },
     "metadata": {},
     "output_type": "display_data"
    }
   ],
   "source": [
    "# Your answer here\n",
    "from IPython.display import Markdown\n",
    "answer = \"\"\"\n",
    "Given a string made up of any of 6 characters that represent opening and closing brackets, the goal is to determine if the string contains a valid bracket sequeunce, which is defined as follows:\n",
    "- If there are any open brackets, they should be closed by the same type of brackets, and\n",
    "- The order of closing the brackets should be correct, i.e. if there are two opening brackets, '(' and '[', then a valid string would contain ']' followed by ')'.\n",
    "If the string is found to be valid, i.e., the string satisfies both of the above conditions, we will return True, otherwise return False.\n",
    "\"\"\"\n",
    "\n",
    "display(Markdown(answer))"
   ]
  },
  {
   "cell_type": "markdown",
   "metadata": {},
   "source": [
    "\n",
    "-   Create 1 new example that demonstrates you understand the problem. Trace/walkthrough 1 example that your partner made and explain it.\n"
   ]
  },
  {
   "cell_type": "code",
   "execution_count": 23,
   "metadata": {},
   "outputs": [
    {
     "data": {
      "text/markdown": [
       "\n",
       "## New example\n",
       "```{python}\n",
       "input = '[{([)]}]'\n",
       "output = False\n",
       "````\n",
       "\n",
       "Explanation: All opening brackets are followed by closing brackets but the order of bracket closing is not correct.\n",
       "\n",
       "\n",
       "## Walkthrough of partner example\n",
       "```{python}\n",
       "input =  \"([{}]))\"\n",
       "output =  False\n",
       "```\n",
       "\n",
       "Explanation: In this example, there are three opening brackets, one regular bracket, (, one square bracket [, one curly bracket, {. The curly bracket is closed first, followed by square bracket, followed by regular bracket. However, at the end, there is an extra closing bracket ), which does not have an opening bracket.\n"
      ],
      "text/plain": [
       "<IPython.core.display.Markdown object>"
      ]
     },
     "metadata": {},
     "output_type": "display_data"
    }
   ],
   "source": [
    "# Your answer here\n",
    "answer = \"\"\"\n",
    "## New example\n",
    "```{python}\n",
    "input = '[{([)]}]'\n",
    "output = False\n",
    "````\n",
    "\n",
    "Explanation: All opening brackets are followed by closing brackets but the order of bracket closing is not correct.\n",
    "\n",
    "\n",
    "## Walkthrough of partner example\n",
    "```{python}\n",
    "input =  \"([{}]))\"\n",
    "output =  False\n",
    "```\n",
    "\n",
    "Explanation: In this example, there are three opening brackets, one regular bracket, (, one square bracket [, one curly bracket, {. The curly bracket is closed first, followed by square bracket, followed by regular bracket. However, at the end, there is an extra closing bracket ), which does not have an opening bracket.\n",
    "\"\"\"\n",
    "display(Markdown(answer))"
   ]
  },
  {
   "cell_type": "markdown",
   "metadata": {},
   "source": [
    "\n",
    "-   Copy the solution your partner wrote. \n"
   ]
  },
  {
   "cell_type": "code",
   "execution_count": 24,
   "metadata": {},
   "outputs": [],
   "source": [
    "# Your answer here\n",
    "def is_valid_brackets(s: str) -> bool:\n",
    "    # TODO\n",
    "    #pass\n",
    "    \n",
    "    # Replacement-based method\n",
    "    prev = None\n",
    "    while prev != s:\n",
    "        print(s)\n",
    "        prev = s\n",
    "        s = s.replace(\"()\", \"\").replace(\"{}\", \"\").replace(\"[]\", \"\")\n",
    "    return s == \"\""
   ]
  },
  {
   "cell_type": "markdown",
   "metadata": {},
   "source": [
    "\n",
    "-   Explain why their solution works in your own words.\n"
   ]
  },
  {
   "cell_type": "code",
   "execution_count": 25,
   "metadata": {},
   "outputs": [
    {
     "data": {
      "text/markdown": [
       "Their solution works by iteratively removing pairs of each of the three brackets in the string until no more pairs can be removed. \n",
       "- They start with the original string and check if any pairs of brackets are present. If any pairs are found, those pairs are replaced removed.\n",
       "- After removing brackets, the string changes. The while loop checks if there has been any change in the string, and if the string has changed, the loop runs again and removes any bracket pairs it finds.\n",
       "- When no more bracket pairs can be found, the loop ends because the string does not change anymore.\n",
       "- At the end, if the final string is empty, that means all brackets were paired and in correct order, and the function returns True\n",
       "- If the string is not empty, it means that either there is an extra bracket or that the brackets were not paired in correct order and the function returns False.\n"
      ],
      "text/plain": [
       "<IPython.core.display.Markdown object>"
      ]
     },
     "metadata": {},
     "output_type": "display_data"
    }
   ],
   "source": [
    "# Your answer here\n",
    "answer = \"\"\"Their solution works by iteratively removing pairs of each of the three brackets in the string until no more pairs can be removed. \n",
    "- They start with the original string and check if any pairs of brackets are present. If any pairs are found, those pairs are replaced removed.\n",
    "- After removing brackets, the string changes. The while loop checks if there has been any change in the string, and if the string has changed, the loop runs again and removes any bracket pairs it finds.\n",
    "- When no more bracket pairs can be found, the loop ends because the string does not change anymore.\n",
    "- At the end, if the final string is empty, that means all brackets were paired and in correct order, and the function returns True\n",
    "- If the string is not empty, it means that either there is an extra bracket or that the brackets were not paired in correct order and the function returns False.\n",
    "\"\"\"\n",
    "\n",
    "display(Markdown(answer))\n"
   ]
  },
  {
   "cell_type": "markdown",
   "metadata": {},
   "source": [
    "\n",
    "-   Explain the problem’s time and space complexity in your own words.\n"
   ]
  },
  {
   "cell_type": "code",
   "execution_count": 26,
   "metadata": {},
   "outputs": [
    {
     "data": {
      "text/markdown": [
       "\n",
       "### Time complexity\n",
       "- For each iteration, the algorithm performs three replace steps, which are each O(n) complexity. The replace step will go through the whole string to find the matching string pair. So every iteration is O(n) complexity\n",
       "- The number of iterations would be a maximum of n/2 because each iteration removes a pair of brackets. So the iterations are O(n/2), which is O(n).\n",
       "Therefore, we have O(n) iterations with O(n) steps at every iteration, which makes the overall time complexity O(n^2^)\n",
       "\n",
       "### Space Complexity\n",
       "For each iteration, we are replacing and overwriting the variable s and variable prev. Both these need to be stored. Therefore, the space complexity is O(2n), which simplifies to O(n)\n"
      ],
      "text/plain": [
       "<IPython.core.display.Markdown object>"
      ]
     },
     "metadata": {},
     "output_type": "display_data"
    }
   ],
   "source": [
    "# Your answer here\n",
    "answer = \"\"\"\n",
    "### Time complexity\n",
    "- For each iteration, the algorithm performs three replace steps, which are each O(n) complexity. The replace step will go through the whole string to find the matching string pair. So every iteration is O(n) complexity\n",
    "- The number of iterations would be a maximum of n/2 because each iteration removes a pair of brackets. So the iterations are O(n/2), which is O(n).\n",
    "Therefore, we have O(n) iterations with O(n) steps at every iteration, which makes the overall time complexity O(n^2^)\n",
    "\n",
    "### Space Complexity\n",
    "For each iteration, we are replacing and overwriting the variable s and variable prev. Both these need to be stored. Therefore, the space complexity is O(2n), which simplifies to O(n)\n",
    "\"\"\"\n",
    "\n",
    "display(Markdown(answer))"
   ]
  },
  {
   "cell_type": "markdown",
   "metadata": {},
   "source": [
    "\n",
    "-   Critique your partner's solution, including explanation, and if there is anything that should be adjusted.\n"
   ]
  },
  {
   "cell_type": "code",
   "execution_count": 27,
   "metadata": {},
   "outputs": [
    {
     "data": {
      "text/markdown": [
       "\n",
       "- The written explanation of the code and alternative solution is excellent and explains the thinking behind the solution really well.\n",
       "- It would have been nice to have comments in the code itself to understand what each line is doing.\n",
       "- The variable name 'prev' is unintuituve. The fact that prev is None to begin with and then set equal to s is also unintuituve.\n",
       "- A more intuitive way would be to call prev \"modified_string\", and save the changed string in the loop (after replace statements) in this variable.\n",
       "\n",
       "```{python}\n",
       "def is_valid_brackets(s):\n",
       "    modified_string = None\n",
       "    while modified_string != s: \n",
       "        if modified_string is not None: # if atleast one while loop has run\n",
       "            s = modified_string  # set the new value of string to be the modified_string from last iteration\n",
       "        modified_string = s.replace(\"()\", \"\").replace(\"{}\", \"\").replace(\"[]\", \"\") # modify the string\n",
       "    return modified_string == \"\"\n",
       "```\n",
       "\n"
      ],
      "text/plain": [
       "<IPython.core.display.Markdown object>"
      ]
     },
     "metadata": {},
     "output_type": "display_data"
    }
   ],
   "source": [
    "# Your answer here\n",
    "answer = \"\"\"\n",
    "- The written explanation of the code and alternative solution is excellent and explains the thinking behind the solution really well.\n",
    "- It would have been nice to have comments in the code itself to understand what each line is doing.\n",
    "- The variable name 'prev' is unintuituve. The fact that prev is None to begin with and then set equal to s is also unintuituve.\n",
    "- A more intuitive way would be to call prev \"modified_string\", and save the changed string in the loop (after replace statements) in this variable.\n",
    "\n",
    "```{python}\n",
    "def is_valid_brackets(s):\n",
    "    modified_string = None\n",
    "    while modified_string != s: \n",
    "        if modified_string is not None: # if atleast one while loop has run\n",
    "            s = modified_string  # set the new value of string to be the modified_string from last iteration\n",
    "        modified_string = s.replace(\"()\", \"\").replace(\"{}\", \"\").replace(\"[]\", \"\") # modify the string\n",
    "    return modified_string == \"\"\n",
    "```\n",
    "\n",
    "\"\"\"\n",
    "display(Markdown(answer))\n"
   ]
  },
  {
   "cell_type": "markdown",
   "metadata": {},
   "source": [
    "\n",
    "## Part 4:\n",
    "\n",
    "Please write a 200 word reflection documenting your process from assignment 1, and your presentation and review experience with your partner at the bottom of the Jupyter Notebook under a new heading \"Reflection.\" Again, export this Notebook as pdf.\n"
   ]
  },
  {
   "cell_type": "markdown",
   "metadata": {},
   "source": [
    "### Reflection"
   ]
  },
  {
   "cell_type": "code",
   "execution_count": 28,
   "metadata": {},
   "outputs": [
    {
     "data": {
      "text/markdown": [
       "\n",
       "Assignment 1 and 2 offered a really good chance to think about different ways to solve a problem, and their space and time complexity. \n",
       "The examples during class offered a good opportunity to think about different algorithms and how to translate them in code. \n",
       "In the first assignment, I found the process of separating out the algorithm from the implementation (code) interesting. My intuition is usually to start writing code,\n",
       "but in this assignment I had to first write on paper how to solve the problem (think through the algorithm) and then translate the algorithm to code, which I found to be more efficient.\n",
       "Each of these two steps, the algorithm and the translation to code, can have their own issues and it's helpful to separate these two out, a bit similar to thinking about abstract data types and implementing ADts as data structures in a particular language.\n",
       "\n",
       "The code review process was fun. The algorithm used in the code I reviewed was completely new to me and different from the way I was thinking about the problem. \n",
       "I also realized that it can take more time to understand someone else's code than write your own, but it opens up new ways of thinking through a problem.\n",
       "For code review process, it would have been nice to get a set of criteria against which to review the code. Right now, the process was completely subjective. The review can be on the algorithm, on the implementation, on syntax, naming, or any other aspect of the code.\n",
       "It would be useful to talk about the code review process in class and discuss a few criteria against which code is typically reviewed in industry so that the process can be guided.\n",
       " "
      ],
      "text/plain": [
       "<IPython.core.display.Markdown object>"
      ]
     },
     "metadata": {},
     "output_type": "display_data"
    }
   ],
   "source": [
    "# Your answer here\n",
    "answer = \"\"\"\n",
    "Assignment 1 and 2 offered a really good chance to think about different ways to solve a problem, and their space and time complexity. \n",
    "The examples during class offered a good opportunity to think about different algorithms and how to translate them in code. \n",
    "In the first assignment, I found the process of separating out the algorithm from the implementation (code) interesting. My intuition is usually to start writing code,\n",
    "but in this assignment I had to first write on paper how to solve the problem (think through the algorithm) and then translate the algorithm to code, which I found to be more efficient.\n",
    "Each of these two steps, the algorithm and the translation to code, can have their own issues and it's helpful to separate these two out, a bit similar to thinking about abstract data types and implementing ADts as data structures in a particular language.\n",
    "\n",
    "The code review process was fun. The algorithm used in the code I reviewed was completely new to me and different from the way I was thinking about the problem. \n",
    "I also realized that it can take more time to understand someone else's code than write your own, but it opens up new ways of thinking through a problem.\n",
    "For code review process, it would have been nice to get a set of criteria against which to review the code. Right now, the process was completely subjective. The review can be on the algorithm, on the implementation, on syntax, naming, or any other aspect of the code.\n",
    "It would be useful to talk about the code review process in class and discuss a few criteria against which code is typically reviewed in industry so that the process can be guided.\n",
    " \"\"\"\n",
    "display(Markdown(answer))"
   ]
  },
  {
   "cell_type": "markdown",
   "metadata": {},
   "source": [
    "\n",
    "## Evaluation Criteria\n",
    "\n",
    "We are looking for the similar points as Assignment 1\n",
    "\n",
    "-   Problem is accurately stated\n",
    "\n",
    "-   New example is correct and easily understandable\n",
    "\n",
    "-   Correctness, time, and space complexity of the coding solution\n",
    "\n",
    "-   Clarity in explaining why the solution works, its time and space complexity\n",
    "\n",
    "-   Quality of critique of your partner's assignment, if necessary\n"
   ]
  },
  {
   "cell_type": "markdown",
   "metadata": {},
   "source": [
    "## Submission Information\n",
    "\n",
    "🚨 **Please review our [Assignment Submission Guide](https://github.com/UofT-DSI/onboarding/blob/main/onboarding_documents/submissions.md)** 🚨 for detailed instructions on how to format, branch, and submit your work. Following these guidelines is crucial for your submissions to be evaluated correctly.\n",
    "\n",
    "### Submission Parameters:\n",
    "* Submission Due Date: `HH:MM AM/PM - DD/MM/YYYY`\n",
    "* The branch name for your repo should be: `assignment-2`\n",
    "* What to submit for this assignment:\n",
    "    * This Jupyter Notebook (assignment_2.ipynb) should be populated and should be the only change in your pull request.\n",
    "* What the pull request link should look like for this assignment: `https://github.com/<your_github_username>/algorithms_and_data_structures/pull/<pr_id>`\n",
    "    * Open a private window in your browser. Copy and paste the link to your pull request into the address bar. Make sure you can see your pull request properly. This helps the technical facilitator and learning support staff review your submission easily.\n",
    "\n",
    "Checklist:\n",
    "- [ ] Created a branch with the correct naming convention.\n",
    "- [ ] Ensured that the repository is public.\n",
    "- [ ] Reviewed the PR description guidelines and adhered to them.\n",
    "- [ ] Verify that the link is accessible in a private browser window.\n",
    "\n",
    "If you encounter any difficulties or have questions, please don't hesitate to reach out to our team via our Slack at `#cohort-6-help`. Our Technical Facilitators and Learning Support staff are here to help you navigate any challenges.\n"
   ]
  },
  {
   "cell_type": "code",
   "execution_count": null,
   "metadata": {},
   "outputs": [],
   "source": []
  }
 ],
 "metadata": {
  "kernelspec": {
   "display_name": "dsi_participant",
   "language": "python",
   "name": "python3"
  },
  "language_info": {
   "codemirror_mode": {
    "name": "ipython",
    "version": 3
   },
   "file_extension": ".py",
   "mimetype": "text/x-python",
   "name": "python",
   "nbconvert_exporter": "python",
   "pygments_lexer": "ipython3",
   "version": "3.11.8"
  }
 },
 "nbformat": 4,
 "nbformat_minor": 4
}
